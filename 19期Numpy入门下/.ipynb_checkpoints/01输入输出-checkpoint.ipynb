{
 "cells": [
  {
   "cell_type": "code",
   "execution_count": 2,
   "metadata": {},
   "outputs": [],
   "source": [
    "import numpy as np\n",
    "SEED = 20201124"
   ]
  },
  {
   "cell_type": "markdown",
   "metadata": {},
   "source": [
    "## 二进制文件"
   ]
  },
  {
   "cell_type": "code",
   "execution_count": 8,
   "metadata": {},
   "outputs": [
    {
     "name": "stdout",
     "output_type": "stream",
     "text": [
      "[[0.55938981 0.62556505 0.682231   0.16525988 0.7981054 ]\n",
      " [0.89850709 0.32148282 0.36666286 0.02737746 0.15562727]\n",
      " [0.48018743 0.32452507 0.43399027 0.15538189 0.61253844]]\n"
     ]
    }
   ],
   "source": [
    "outpath = '19期Numpy入门下/test.npy'\n",
    "x = np.random.uniform(0,1,[3,5])\n",
    "print(x)\n",
    "np.save(outpath,x)"
   ]
  },
  {
   "cell_type": "code",
   "execution_count": 10,
   "metadata": {},
   "outputs": [
    {
     "name": "stdout",
     "output_type": "stream",
     "text": [
      "[[0.55938981 0.62556505 0.682231   0.16525988 0.7981054 ]\n",
      " [0.89850709 0.32148282 0.36666286 0.02737746 0.15562727]\n",
      " [0.48018743 0.32452507 0.43399027 0.15538189 0.61253844]]\n"
     ]
    }
   ],
   "source": [
    "y = np.load(outpath)\n",
    "print(y)"
   ]
  },
  {
   "cell_type": "code",
   "execution_count": 11,
   "metadata": {},
   "outputs": [
    {
     "data": {
      "text/plain": [
       "2"
      ]
     },
     "execution_count": 11,
     "metadata": {},
     "output_type": "execute_result"
    }
   ],
   "source": [
    "1+1"
   ]
  },
  {
   "cell_type": "code",
   "execution_count": 14,
   "metadata": {},
   "outputs": [
    {
     "name": "stdout",
     "output_type": "stream",
     "text": [
      "[0.         0.78539816 1.57079633 2.35619449 3.14159265]\n",
      "[0.00000000e+00 7.07106781e-01 1.00000000e+00 7.07106781e-01\n",
      " 1.22464680e-16]\n"
     ]
    }
   ],
   "source": [
    "outpath1 = \"19期Numpy入门下/test.npz\"\n",
    "x = np.linspace(0,np.pi,5)\n",
    "y = np.sin(x)\n",
    "z = np.cos(x)\n",
    "print(x)\n",
    "print(y)\n",
    "np.savez(outpath1,x,y,z_d=z)"
   ]
  },
  {
   "cell_type": "code",
   "execution_count": 17,
   "metadata": {},
   "outputs": [
    {
     "name": "stdout",
     "output_type": "stream",
     "text": [
      "['z_d', 'arr_0', 'arr_1']\n",
      "[0.         0.78539816 1.57079633 2.35619449 3.14159265]\n",
      "[0.00000000e+00 7.07106781e-01 1.00000000e+00 7.07106781e-01\n",
      " 1.22464680e-16]\n",
      "[ 1.00000000e+00  7.07106781e-01  6.12323400e-17 -7.07106781e-01\n",
      " -1.00000000e+00]\n"
     ]
    }
   ],
   "source": [
    "data = np.load(outpath1)\n",
    "print(data.files)\n",
    "print(data['arr_0'])\n",
    "print(data['arr_1'])\n",
    "print(data['z_d'])"
   ]
  },
  {
   "cell_type": "markdown",
   "metadata": {},
   "source": [
    "## 文本文件"
   ]
  },
  {
   "cell_type": "code",
   "execution_count": 24,
   "metadata": {},
   "outputs": [
    {
     "name": "stdout",
     "output_type": "stream",
     "text": [
      "[[0 1 2 3 4]\n",
      " [5 6 7 8 9]]\n"
     ]
    }
   ],
   "source": [
    "outpath2 = \"19期Numpy入门下/test.txt\"\n",
    "x = np.arange(0,10).reshape(2,-1)\n",
    "print(x)\n",
    "np.savetxt(outpath2,x,fmt='%.3f', delimiter=' ')"
   ]
  },
  {
   "cell_type": "code",
   "execution_count": 25,
   "metadata": {},
   "outputs": [
    {
     "name": "stdout",
     "output_type": "stream",
     "text": [
      "[[0. 1. 2. 3. 4.]\n",
      " [5. 6. 7. 8. 9.]]\n"
     ]
    }
   ],
   "source": [
    "y = np.loadtxt(outpath2,delimiter=' ')\n",
    "print(y)"
   ]
  },
  {
   "cell_type": "code",
   "execution_count": 26,
   "metadata": {},
   "outputs": [
    {
     "name": "stdout",
     "output_type": "stream",
     "text": [
      "[[0.  0.5 1.  1.5 2. ]\n",
      " [2.5 3.  3.5 4.  4.5]\n",
      " [5.  5.5 6.  6.5 7. ]\n",
      " [7.5 8.  8.5 9.  9.5]]\n",
      "[[0.  0.5 1.  1.5 2. ]\n",
      " [2.5 3.  3.5 4.  4.5]\n",
      " [5.  5.5 6.  6.5 7. ]\n",
      " [7.5 8.  8.5 9.  9.5]]\n"
     ]
    }
   ],
   "source": [
    "outpath3 = \"19期Numpy入门下/test.csv\"\n",
    "x = np.arange(0,10,0.5).reshape(4,-1)\n",
    "print(x)\n",
    "np.savetxt(outpath3,x,fmt='%.3f', delimiter=',')\n",
    "y = np.loadtxt(outpath3,delimiter=',')\n",
    "print(y)"
   ]
  },
  {
   "cell_type": "code",
   "execution_count": 27,
   "metadata": {},
   "outputs": [
    {
     "name": "stdout",
     "output_type": "stream",
     "text": [
      "[[  1.  123.    1.4  23. ]\n",
      " [  2.  110.    0.5  18. ]\n",
      " [  3.  164.    2.1  19. ]]\n"
     ]
    }
   ],
   "source": [
    "outpath4 = \"19期Numpy入门下/data.csv\"\n",
    "x = np.loadtxt(outpath4,delimiter=',',skiprows=1)\n",
    "print(x)"
   ]
  },
  {
   "cell_type": "code",
   "execution_count": 28,
   "metadata": {},
   "outputs": [
    {
     "name": "stdout",
     "output_type": "stream",
     "text": [
      "[[123.    1.4]\n",
      " [110.    0.5]\n",
      " [164.    2.1]]\n"
     ]
    }
   ],
   "source": [
    "x = np.loadtxt(outpath4,delimiter=',',skiprows=1,usecols=(1,2))\n",
    "print(x)"
   ]
  },
  {
   "cell_type": "code",
   "execution_count": 31,
   "metadata": {},
   "outputs": [
    {
     "name": "stdout",
     "output_type": "stream",
     "text": [
      "[123. 110. 164.]\n",
      "[1.4 0.5 2.1]\n"
     ]
    }
   ],
   "source": [
    "# unpack：当加载多列数据时是否需要将数据列进行解耦赋值给不同的变量\n",
    "val1,val2 = np.loadtxt(outpath4,delimiter=',',skiprows=1,usecols=(1,2),unpack=True)\n",
    "print(val1)\n",
    "print(val2)"
   ]
  },
  {
   "cell_type": "code",
   "execution_count": 33,
   "metadata": {},
   "outputs": [
    {
     "name": "stdout",
     "output_type": "stream",
     "text": [
      "[(1., 123., 1.4, 23.) (2., 110., 0.5, 18.) (3., 164., 2.1, 19.)]\n",
      "<class 'numpy.ndarray'>\n",
      "[('id', '<f8'), ('value1', '<f8'), ('value2', '<f8'), ('value3', '<f8')]\n"
     ]
    }
   ],
   "source": [
    "x = np.genfromtxt(outpath4,delimiter=',',names=True)\n",
    "print(x)\n",
    "print(type(x))\n",
    "print(x.dtype)"
   ]
  },
  {
   "cell_type": "code",
   "execution_count": 34,
   "metadata": {},
   "outputs": [
    {
     "name": "stdout",
     "output_type": "stream",
     "text": [
      "[1. 2. 3.]\n",
      "[123. 110. 164.]\n",
      "[1.4 0.5 2.1]\n",
      "[23. 18. 19.]\n"
     ]
    }
   ],
   "source": [
    "print(x['id'])\n",
    "print(x['value1'])\n",
    "print(x['value2'])\n",
    "print(x['value3'])"
   ]
  },
  {
   "cell_type": "markdown",
   "metadata": {},
   "source": [
    "## 文本格式选项"
   ]
  },
  {
   "cell_type": "code",
   "execution_count": 35,
   "metadata": {},
   "outputs": [
    {
     "name": "stdout",
     "output_type": "stream",
     "text": [
      "[1.1235]\n"
     ]
    }
   ],
   "source": [
    "np.set_printoptions(precision=4)\n",
    "x = np.array([1.123456789])\n",
    "print(x)"
   ]
  },
  {
   "cell_type": "code",
   "execution_count": 36,
   "metadata": {},
   "outputs": [
    {
     "name": "stdout",
     "output_type": "stream",
     "text": [
      "[ 0  1  2 ... 47 48 49]\n"
     ]
    }
   ],
   "source": [
    "np.set_printoptions(threshold=20)\n",
    "x = np.arange(50)\n",
    "print(x)"
   ]
  },
  {
   "cell_type": "code",
   "execution_count": 39,
   "metadata": {},
   "outputs": [
    {
     "name": "stdout",
     "output_type": "stream",
     "text": [
      "[0 1 2 3]\n",
      "[-4.9304e-32 -4.4409e-16  0.0000e+00  0.0000e+00]\n",
      "[-0. -0.  0.  0.]\n"
     ]
    }
   ],
   "source": [
    "eps = np.finfo(float).eps\n",
    "x = np.arange(4)\n",
    "print(x)\n",
    "x = x**2-(x+eps)**2\n",
    "print(x)\n",
    "# 当 suppress=True ，表示小数不需要以科学计数法的形式输出，默认是False\n",
    "np.set_printoptions(suppress=True)\n",
    "print(x)"
   ]
  },
  {
   "cell_type": "code",
   "execution_count": 43,
   "metadata": {},
   "outputs": [
    {
     "name": "stdout",
     "output_type": "stream",
     "text": [
      "[ 0.    1.11  2.22 ...  7.78  8.89 10.  ]\n"
     ]
    }
   ],
   "source": [
    "x = np.linspace(0,10,10)\n",
    "np.set_printoptions(precision=2,suppress=True,threshold=5)\n",
    "print(x)"
   ]
  },
  {
   "cell_type": "code",
   "execution_count": 44,
   "metadata": {},
   "outputs": [
    {
     "data": {
      "text/plain": [
       "{'edgeitems': 3,\n",
       " 'threshold': 5,\n",
       " 'floatmode': 'maxprec',\n",
       " 'precision': 2,\n",
       " 'suppress': True,\n",
       " 'linewidth': 75,\n",
       " 'nanstr': 'nan',\n",
       " 'infstr': 'inf',\n",
       " 'sign': '-',\n",
       " 'formatter': None,\n",
       " 'legacy': False}"
      ]
     },
     "execution_count": 44,
     "metadata": {},
     "output_type": "execute_result"
    }
   ],
   "source": [
    "np.get_printoptions()"
   ]
  },
  {
   "cell_type": "code",
   "execution_count": null,
   "metadata": {},
   "outputs": [],
   "source": []
  }
 ],
 "metadata": {
  "kernelspec": {
   "display_name": "Python 3",
   "language": "python",
   "name": "python3"
  },
  "language_info": {
   "codemirror_mode": {
    "name": "ipython",
    "version": 3
   },
   "file_extension": ".py",
   "mimetype": "text/x-python",
   "name": "python",
   "nbconvert_exporter": "python",
   "pygments_lexer": "ipython3",
   "version": "3.7.4"
  }
 },
 "nbformat": 4,
 "nbformat_minor": 4
}
