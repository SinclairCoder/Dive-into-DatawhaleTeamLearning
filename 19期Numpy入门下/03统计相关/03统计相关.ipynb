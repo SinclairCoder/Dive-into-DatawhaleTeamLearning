{
 "cells": [
  {
   "cell_type": "code",
   "execution_count": 1,
   "metadata": {},
   "outputs": [],
   "source": [
    "import numpy as np\n",
    "import matplotlib.pyplot as plt\n",
    "from scipy import stats\n",
    "SEED = 20201125\n",
    "np.random.seed(SEED)\n",
    "plt.rcParams['font.sans-serif']=['SimHei'] #用来正常显示中文标签\n",
    "plt.rcParams['axes.unicode_minus']=False #用来正常显示负号"
   ]
  },
  {
   "cell_type": "markdown",
   "metadata": {},
   "source": [
    "# 次序统计\n",
    "## 计算最小值"
   ]
  },
  {
   "cell_type": "code",
   "execution_count": 2,
   "metadata": {},
   "outputs": [
    {
     "name": "stdout",
     "output_type": "stream",
     "text": [
      "1\n",
      "[11 12 13 14  1]\n",
      "[11 16 21 26  1]\n"
     ]
    }
   ],
   "source": [
    "x = np.array([[11, 12, 13, 14, 15],\n",
    "              [16, 17, 18, 19, 20],\n",
    "              [21, 22, 23, 24, 25],\n",
    "              [26, 27, 28, 29, 30],\n",
    "              [31, 32, 33, 34, 1]])\n",
    "y = np.amin(x) # 找到数组中最小的一个数字\n",
    "print(y)\n",
    "y = np.amin(x,axis = 0) # 取每列的最小值\n",
    "print(y)\n",
    "y = np.amin(x,axis=1)  # 取每行的最小值\n",
    "print(y)"
   ]
  },
  {
   "cell_type": "markdown",
   "metadata": {},
   "source": [
    "## 计算最大值"
   ]
  },
  {
   "cell_type": "code",
   "execution_count": 3,
   "metadata": {},
   "outputs": [
    {
     "name": "stdout",
     "output_type": "stream",
     "text": [
      "34\n",
      "[31 32 33 34 30]\n",
      "[15 20 25 30 34]\n"
     ]
    }
   ],
   "source": [
    "y = np.amax(x) # 找到数组中最小的一个数字\n",
    "print(y)\n",
    "y = np.amax(x,axis = 0) # 取每列的最大值\n",
    "print(y)\n",
    "y = np.amax(x,axis=1)  # 取每行的最大值\n",
    "print(y)"
   ]
  },
  {
   "cell_type": "markdown",
   "metadata": {},
   "source": [
    "## 计算极差"
   ]
  },
  {
   "cell_type": "code",
   "execution_count": 4,
   "metadata": {},
   "outputs": [
    {
     "name": "stdout",
     "output_type": "stream",
     "text": [
      "[[ 3 13 15  6 11]\n",
      " [13  8 17 18  4]\n",
      " [19  1 14 17  3]\n",
      " [13 17  4 14  7]]\n"
     ]
    }
   ],
   "source": [
    "np.random.seed(SEED)\n",
    "x = np.random.randint(0,20,size=(4,5))\n",
    "print(x)"
   ]
  },
  {
   "cell_type": "code",
   "execution_count": 5,
   "metadata": {},
   "outputs": [
    {
     "name": "stdout",
     "output_type": "stream",
     "text": [
      "18\n",
      "[16 16 13 12  8]\n",
      "[12 14 18 13]\n"
     ]
    }
   ],
   "source": [
    "print(np.ptp(x))\n",
    "print(np.ptp(x,axis=0)) # 计算每一列的极差\n",
    "print(np.ptp(x,axis=1)) # 计算每一行的极差"
   ]
  },
  {
   "cell_type": "markdown",
   "metadata": {},
   "source": [
    "## 计算分位数"
   ]
  },
  {
   "cell_type": "code",
   "execution_count": 6,
   "metadata": {},
   "outputs": [
    {
     "name": "stdout",
     "output_type": "stream",
     "text": [
      "[[ 3 13 15  6 11]\n",
      " [13  8 17 18  4]\n",
      " [19  1 14 17  3]\n",
      " [13 17  4 14  7]]\n"
     ]
    }
   ],
   "source": [
    "np.random.seed(SEED)\n",
    "x = np.random.randint(0,20,size=(4,5))\n",
    "print(x)"
   ]
  },
  {
   "cell_type": "code",
   "execution_count": 7,
   "metadata": {},
   "outputs": [
    {
     "name": "stdout",
     "output_type": "stream",
     "text": [
      "[ 5.5 13. ]\n",
      "[[10.5   6.25 11.5  12.    3.75]\n",
      " [13.   10.5  14.5  15.5   5.5 ]]\n",
      "[[ 6.  8.  3.  7.]\n",
      " [11. 13. 14. 13.]]\n"
     ]
    }
   ],
   "source": [
    "print(np.percentile(x,[25,50])) \n",
    "print(np.percentile(x,[25,50],axis=0)) # 每列的百分25数，百分50数\n",
    "print(np.percentile(x,[25,50],axis=1)) # 每行的百分25数，百分50数"
   ]
  },
  {
   "cell_type": "markdown",
   "metadata": {},
   "source": [
    "# 均值与方差\n",
    "## 计算中位数"
   ]
  },
  {
   "cell_type": "code",
   "execution_count": 8,
   "metadata": {},
   "outputs": [
    {
     "name": "stdout",
     "output_type": "stream",
     "text": [
      "[[ 3 13 15  6 11]\n",
      " [13  8 17 18  4]\n",
      " [19  1 14 17  3]\n",
      " [13 17  4 14  7]]\n",
      "13.0\n"
     ]
    }
   ],
   "source": [
    "np.random.seed(SEED)\n",
    "x = np.random.randint(0,20,size=(4,5))\n",
    "print(x)\n",
    "print(np.median(x))"
   ]
  },
  {
   "cell_type": "code",
   "execution_count": 9,
   "metadata": {},
   "outputs": [
    {
     "name": "stdout",
     "output_type": "stream",
     "text": [
      "[13.  10.5 14.5 15.5  5.5]\n"
     ]
    }
   ],
   "source": [
    "print(np.median(x,axis=0)) # 每列的中位数"
   ]
  },
  {
   "cell_type": "code",
   "execution_count": 10,
   "metadata": {},
   "outputs": [
    {
     "name": "stdout",
     "output_type": "stream",
     "text": [
      "[11. 13. 14. 13.]\n"
     ]
    }
   ],
   "source": [
    "print(np.median(x,axis=1)) # 每列的中位数"
   ]
  },
  {
   "cell_type": "markdown",
   "metadata": {},
   "source": [
    "## 平均值"
   ]
  },
  {
   "cell_type": "code",
   "execution_count": 11,
   "metadata": {},
   "outputs": [
    {
     "name": "stdout",
     "output_type": "stream",
     "text": [
      "[[ 8 19  6 14  0]\n",
      " [ 1  1  9  9 12]\n",
      " [13 15  1 11  7]\n",
      " [ 3  8  5  8  9]]\n",
      "7.95\n"
     ]
    }
   ],
   "source": [
    "x = np.random.randint(0,20,size=(4,5))\n",
    "print(x)\n",
    "print(np.mean(x))"
   ]
  },
  {
   "cell_type": "code",
   "execution_count": 12,
   "metadata": {},
   "outputs": [
    {
     "name": "stdout",
     "output_type": "stream",
     "text": [
      "[ 6.25 10.75  5.25 10.5   7.  ]\n"
     ]
    }
   ],
   "source": [
    "print(np.mean(x,axis=0)) # 每一列的平均值"
   ]
  },
  {
   "cell_type": "code",
   "execution_count": 13,
   "metadata": {},
   "outputs": [
    {
     "name": "stdout",
     "output_type": "stream",
     "text": [
      "[9.4 6.4 9.4 6.6]\n"
     ]
    }
   ],
   "source": [
    "print(np.mean(x,axis=1)) # 每一行的平均值"
   ]
  },
  {
   "cell_type": "markdown",
   "metadata": {},
   "source": [
    "## 加权平均值"
   ]
  },
  {
   "cell_type": "code",
   "execution_count": 14,
   "metadata": {},
   "outputs": [
    {
     "name": "stdout",
     "output_type": "stream",
     "text": [
      "[[ 2  8  2 14 18]\n",
      " [ 4  3  2  2  8]\n",
      " [ 6 18  5 15  1]\n",
      " [ 5 19 12 16 11]]\n",
      "8.55\n",
      "[ 4.25 12.    5.25 11.75  9.5 ]\n",
      "[ 8.8  3.8  9.  12.6]\n"
     ]
    }
   ],
   "source": [
    "x = np.random.randint(0,20,size=(4,5))\n",
    "print(x)\n",
    "print(np.average(x))\n",
    "print(np.average(x,axis=0))\n",
    "print(np.average(x,axis=1))"
   ]
  },
  {
   "cell_type": "code",
   "execution_count": 15,
   "metadata": {},
   "outputs": [
    {
     "name": "stdout",
     "output_type": "stream",
     "text": [
      "[[4 1 2 9 5]\n",
      " [4 5 0 5 4]\n",
      " [3 8 5 9 3]\n",
      " [5 1 3 0 1]]\n",
      "9.415584415584416\n",
      "[ 4.1875     12.4         6.5        11.7826087  10.46153846]\n",
      "[11.23809524  4.05555556 11.60714286  9.1       ]\n"
     ]
    }
   ],
   "source": [
    "w = np.random.randint(0,10,size=(4,5))\n",
    "print(w)\n",
    "print(np.average(x,weights=w))\n",
    "print(np.average(x,weights=w,axis=0))\n",
    "print(np.average(x,weights=w,axis=1))"
   ]
  },
  {
   "cell_type": "markdown",
   "metadata": {},
   "source": [
    "## 计算方差"
   ]
  },
  {
   "cell_type": "code",
   "execution_count": 16,
   "metadata": {},
   "outputs": [
    {
     "name": "stdout",
     "output_type": "stream",
     "text": [
      "[[13 23 25 16 21]\n",
      " [23 18 27 28 14]\n",
      " [29 11 24 27 13]\n",
      " [23 27 14 24 17]\n",
      " [18 29 16 24 10]]\n",
      "20.56\n",
      "34.6464\n",
      "34.6464\n"
     ]
    }
   ],
   "source": [
    "np.random.seed(SEED)\n",
    "x = np.random.randint(10,30,size=(5,5))\n",
    "print(x)\n",
    "print(np.mean(x))\n",
    "y = np.var(x)\n",
    "print(y)\n",
    "y = np.mean((x-np.mean(x))**2)\n",
    "print(y)"
   ]
  },
  {
   "cell_type": "code",
   "execution_count": 17,
   "metadata": {},
   "outputs": [
    {
     "name": "stdout",
     "output_type": "stream",
     "text": [
      "36.09\n",
      "36.09\n",
      "25\n"
     ]
    }
   ],
   "source": [
    "y = np.var(x,ddof=1)\n",
    "print(y)\n",
    "y = np.sum((x-np.mean(x))**2)/(x.size-1)\n",
    "print(y)\n",
    "print(x.size)"
   ]
  },
  {
   "cell_type": "code",
   "execution_count": 18,
   "metadata": {},
   "outputs": [
    {
     "name": "stdout",
     "output_type": "stream",
     "text": [
      "[28.96 42.24 26.96 17.76 14.  ]\n",
      "[19.84 28.4  54.56 22.8  43.04]\n"
     ]
    }
   ],
   "source": [
    "print(np.var(x,axis=0))\n",
    "print(np.var(x,axis=1))"
   ]
  },
  {
   "cell_type": "markdown",
   "metadata": {},
   "source": [
    "## 计算标准差"
   ]
  },
  {
   "cell_type": "code",
   "execution_count": 19,
   "metadata": {},
   "outputs": [
    {
     "name": "stdout",
     "output_type": "stream",
     "text": [
      "[[13 23 25 16 21]\n",
      " [23 18 27 28 14]\n",
      " [29 11 24 27 13]\n",
      " [23 27 14 24 17]\n",
      " [18 29 16 24 10]]\n",
      "5.886119264846746\n",
      "5.886119264846746\n"
     ]
    }
   ],
   "source": [
    "np.random.seed(SEED)\n",
    "x = np.random.randint(10,30,size=(5,5))\n",
    "print(x)\n",
    "y = np.std(x)\n",
    "print(y)\n",
    "y = np.sqrt(np.var(x))\n",
    "print(y)"
   ]
  },
  {
   "cell_type": "code",
   "execution_count": 22,
   "metadata": {},
   "outputs": [
    {
     "name": "stdout",
     "output_type": "stream",
     "text": [
      "[5.38144962 6.49923072 5.19230199 4.2142615  3.74165739]\n",
      "[4.45421149 5.32916504 7.38647413 4.77493455 6.56048779]\n"
     ]
    }
   ],
   "source": [
    "print(np.std(x,axis=0))\n",
    "print(np.std(x,axis=1))"
   ]
  },
  {
   "cell_type": "markdown",
   "metadata": {},
   "source": [
    "## 计算协方差矩阵"
   ]
  },
  {
   "cell_type": "code",
   "execution_count": 20,
   "metadata": {},
   "outputs": [
    {
     "name": "stdout",
     "output_type": "stream",
     "text": [
      "3.7\n",
      "8.5\n",
      "[[3.7  5.25]\n",
      " [5.25 8.5 ]]\n"
     ]
    }
   ],
   "source": [
    "x = [1,2,3,4,6]\n",
    "y = [0,2,5,6,7]\n",
    "print(np.cov(x)) # 样本方差\n",
    "print(np.cov(y)) # 样本方差\n",
    "print(np.cov(x,y)) # 协方差"
   ]
  },
  {
   "cell_type": "code",
   "execution_count": 21,
   "metadata": {},
   "outputs": [
    {
     "name": "stdout",
     "output_type": "stream",
     "text": [
      "2.96\n",
      "2.96\n",
      "3.7\n",
      "3.7\n"
     ]
    }
   ],
   "source": [
    "print(np.var(x))\n",
    "print(np.mean((x-np.mean(x))**2))\n",
    "print(np.var(x,ddof=1))\n",
    "print(np.sum((x-np.mean(x))**2)/(len(x)-1))"
   ]
  },
  {
   "cell_type": "code",
   "execution_count": 22,
   "metadata": {},
   "outputs": [
    {
     "name": "stdout",
     "output_type": "stream",
     "text": [
      "6.8\n",
      "6.8\n",
      "8.5\n",
      "8.5\n"
     ]
    }
   ],
   "source": [
    "print(np.var(y))\n",
    "print(np.mean((y-np.mean(y))**2))\n",
    "print(np.var(y,ddof=1))\n",
    "print(np.sum((y-np.mean(y))**2)/(len(y)-1))"
   ]
  },
  {
   "cell_type": "code",
   "execution_count": 23,
   "metadata": {},
   "outputs": [
    {
     "name": "stdout",
     "output_type": "stream",
     "text": [
      "5.25\n"
     ]
    }
   ],
   "source": [
    "x = [1,2,3,4,6]\n",
    "y = [0,2,5,6,7]\n",
    "print(np.dot( x-np.mean(x),y-np.mean(y) ) /(len(x)-1))"
   ]
  },
  {
   "cell_type": "code",
   "execution_count": 24,
   "metadata": {},
   "outputs": [
    {
     "name": "stdout",
     "output_type": "stream",
     "text": [
      "4.199999999999999\n"
     ]
    }
   ],
   "source": [
    "x = [1,2,3,4,6]\n",
    "y = [0,2,5,6,7]\n",
    "print(np.dot(x,y)/len(x)-np.mean(x)*np.mean(y))"
   ]
  },
  {
   "cell_type": "markdown",
   "metadata": {},
   "source": [
    "## 计算相关系数"
   ]
  },
  {
   "cell_type": "code",
   "execution_count": 25,
   "metadata": {},
   "outputs": [
    {
     "name": "stdout",
     "output_type": "stream",
     "text": [
      "[ 3 13 15  6]\n",
      "[11 13  8 17]\n",
      "[[ 1.         -0.45481243]\n",
      " [-0.45481243  1.        ]]\n",
      "-0.4548124285518578\n"
     ]
    }
   ],
   "source": [
    "np.random.seed(SEED)\n",
    "x,y = np.random.randint(0,20,size=(2,4))\n",
    "print(x)\n",
    "print(y)\n",
    "z = np.corrcoef(x,y)\n",
    "print(z)\n",
    "a = np.dot(x-np.mean(x),y-np.mean(y))/len(x)\n",
    "b = np.sqrt(np.dot(x-np.mean(x),x-np.mean(x))/(len(x)))\n",
    "c = np.sqrt(np.dot(y-np.mean(y),y-np.mean(y))/(len(y)))\n",
    "# print(a)\n",
    "# print(b)\n",
    "# print(c)\n",
    "print(a/(b*c))"
   ]
  },
  {
   "cell_type": "code",
   "execution_count": 26,
   "metadata": {},
   "outputs": [
    {
     "data": {
      "text/plain": [
       "-0.4548124285518577"
      ]
     },
     "execution_count": 26,
     "metadata": {},
     "output_type": "execute_result"
    }
   ],
   "source": [
    "a = np.dot(x-np.mean(x),y-np.mean(y))\n",
    "b = np.sqrt(np.dot(x-np.mean(x),x-np.mean(x)))\n",
    "c = np.sqrt(np.dot(y-np.mean(y),y-np.mean(y)))\n",
    "a/b/c"
   ]
  },
  {
   "cell_type": "markdown",
   "metadata": {},
   "source": [
    "## 直方图"
   ]
  },
  {
   "cell_type": "code",
   "execution_count": 27,
   "metadata": {},
   "outputs": [
    {
     "name": "stdout",
     "output_type": "stream",
     "text": [
      "[1 4 3 2]\n"
     ]
    }
   ],
   "source": [
    "x = np.array([0.2, 6.4, 3.0, 1.6])\n",
    "bins = np.array([0.0, 1.0, 2.5, 4.0, 10.0])\n",
    "inds = np.digitize(x,bins)\n",
    "print(inds)"
   ]
  },
  {
   "cell_type": "code",
   "execution_count": 28,
   "metadata": {},
   "outputs": [
    {
     "name": "stdout",
     "output_type": "stream",
     "text": [
      "0.0 <= 0.2 <= 1.0\n",
      "4.0 <= 6.4 <= 10.0\n",
      "2.5 <= 3.0 <= 4.0\n",
      "1.0 <= 1.6 <= 2.5\n"
     ]
    }
   ],
   "source": [
    "for i in range(x.size):\n",
    "    print(bins[inds[i]-1],\"<=\",x[i],\"<=\",bins[inds[i]])"
   ]
  },
  {
   "cell_type": "markdown",
   "metadata": {},
   "source": [
    "# 练习题"
   ]
  },
  {
   "cell_type": "code",
   "execution_count": 29,
   "metadata": {},
   "outputs": [],
   "source": [
    "# 线性回归\n",
    "X = [[1, 6, 2] , [1, 8, 1] , [1, 10, 0] , [1 , 14, 2] , [1, 18, 0]] \n",
    "y = [[7] , [9] , [13] , [17.5] , [18]]"
   ]
  },
  {
   "cell_type": "code",
   "execution_count": 30,
   "metadata": {},
   "outputs": [
    {
     "name": "stdout",
     "output_type": "stream",
     "text": [
      "[[1, 6, 2], [1, 8, 1], [1, 10, 0], [1, 14, 2], [1, 18, 0]]\n",
      "[[7], [9], [13], [17.5], [18]]\n"
     ]
    }
   ],
   "source": [
    "print(X)\n",
    "print(y)"
   ]
  },
  {
   "cell_type": "code",
   "execution_count": 35,
   "metadata": {},
   "outputs": [
    {
     "name": "stdout",
     "output_type": "stream",
     "text": [
      "[[1.1875    ]\n",
      " [1.01041667]\n",
      " [0.39583333]]\n"
     ]
    }
   ],
   "source": [
    "# 正规方程解法\n",
    "print(np.dot(np.linalg.inv(np.dot(np.transpose(X),X)),np.dot(np.transpose(X),y)))"
   ]
  },
  {
   "cell_type": "code",
   "execution_count": 37,
   "metadata": {},
   "outputs": [
    {
     "name": "stderr",
     "output_type": "stream",
     "text": [
      "E:\\Python\\Anaconda\\INSTALL\\lib\\site-packages\\ipykernel_launcher.py:2: FutureWarning: `rcond` parameter will change to the default of machine precision times ``max(M, N)`` where M and N are the input matrix dimensions.\n",
      "To use the future default and silence this warning we advise to pass `rcond=None`, to keep using the old, explicitly pass `rcond=-1`.\n",
      "  \n"
     ]
    },
    {
     "data": {
      "text/plain": [
       "array([[1.1875    ],\n",
       "       [1.01041667],\n",
       "       [0.39583333]])"
      ]
     },
     "execution_count": 37,
     "metadata": {},
     "output_type": "execute_result"
    }
   ],
   "source": [
    "# 最小二乘法\n",
    "np.linalg.lstsq(X,y)[0]"
   ]
  },
  {
   "cell_type": "code",
   "execution_count": 39,
   "metadata": {},
   "outputs": [
    {
     "name": "stdout",
     "output_type": "stream",
     "text": [
      "[[2 2 6]\n",
      " [5 2 8]\n",
      " [4 9 6]\n",
      " [9 3 5]\n",
      " [9 3 9]]\n"
     ]
    },
    {
     "data": {
      "text/plain": [
       "array([6, 8, 9, 9, 9])"
      ]
     },
     "execution_count": 39,
     "metadata": {},
     "output_type": "execute_result"
    }
   ],
   "source": [
    "#计算给定数组中每行的最大值。如何在二维numpy数组的每一行中找到最大值？\n",
    "\n",
    "a = np.random.randint(1, 10, [5, 3])\n",
    "print(a)\n",
    "np.amax(a,axis=1)\n"
   ]
  },
  {
   "cell_type": "code",
   "execution_count": null,
   "metadata": {},
   "outputs": [],
   "source": []
  }
 ],
 "metadata": {
  "kernelspec": {
   "display_name": "Python 3",
   "language": "python",
   "name": "python3"
  },
  "language_info": {
   "codemirror_mode": {
    "name": "ipython",
    "version": 3
   },
   "file_extension": ".py",
   "mimetype": "text/x-python",
   "name": "python",
   "nbconvert_exporter": "python",
   "pygments_lexer": "ipython3",
   "version": "3.7.4"
  }
 },
 "nbformat": 4,
 "nbformat_minor": 4
}
